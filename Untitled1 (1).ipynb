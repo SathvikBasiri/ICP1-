{
  "nbformat": 4,
  "nbformat_minor": 0,
  "metadata": {
    "colab": {
      "provenance": []
    },
    "kernelspec": {
      "name": "python3",
      "display_name": "Python 3"
    },
    "language_info": {
      "name": "python"
    }
  },
  "cells": [
    {
      "cell_type": "code",
      "execution_count": 24,
      "metadata": {
        "colab": {
          "base_uri": "https://localhost:8080/"
        },
        "id": "9cnSBhbcwM9N",
        "outputId": "68e09382-2e65-4185-dc39-2d3b3d3ac9a1"
      },
      "outputs": [
        {
          "output_type": "stream",
          "name": "stdout",
          "text": [
            "Enter the string 'Python': Python\n",
            "The resultant reversed string is: nhyP\n"
          ]
        }
      ],
      "source": [
        "input_string = list(input(\"Enter the string 'Python': \"))\n",
        "if input_string != list(\"Python\"):\n",
        "    print(\"Enter the string exactly as'Python'\")\n",
        "else:\n",
        "    del input_string[4]\n",
        "    del input_string[2]\n",
        "    input_string.reverse()\n",
        "    result_string = ''.join(input_string)\n",
        "    print(\"The resultant reversed string is:\",result_string)\n"
      ]
    },
    {
      "cell_type": "code",
      "source": [
        "input_sentence = input(\"Enter a sentence: \")\n",
        "modified_sentence = input_sentence.replace('python', 'pythons')\n",
        "print(\"Modified sentence:\", modified_sentence)"
      ],
      "metadata": {
        "colab": {
          "base_uri": "https://localhost:8080/"
        },
        "id": "UcoK8CRnxQOE",
        "outputId": "12c13233-9ee0-4105-8ca9-b72869e1064f"
      },
      "execution_count": 12,
      "outputs": [
        {
          "output_type": "stream",
          "name": "stdout",
          "text": [
            "Enter a sentence: I love playing with python\n",
            "Modified sentence: I love playing with pythons\n"
          ]
        }
      ]
    },
    {
      "cell_type": "code",
      "source": [
        "cl_scr = int(input(\"Enter your class score: \"))\n",
        "if 90 <= cl_scr <= 100:\n",
        "\n",
        "    grade = 'A'\n",
        "elif 80 <= cl_scr < 90:\n",
        "    grade = 'B'\n",
        "elif 70 <= cl_scr < 80:\n",
        "    grade = 'C'\n",
        "elif 60 <= cl_scr < 70:\n",
        "    grade = 'D'\n",
        "elif 50 <= cl_scr < 60:\n",
        "    grade = 'F'\n",
        "else:\n",
        "    grade = 'Invalid score'\n",
        "print(\"The grade is:\",grade)"
      ],
      "metadata": {
        "colab": {
          "base_uri": "https://localhost:8080/"
        },
        "id": "qLYrhvbixgoH",
        "outputId": "c1f38143-6452-4e77-c660-79bf55a203bd"
      },
      "execution_count": 8,
      "outputs": [
        {
          "output_type": "stream",
          "name": "stdout",
          "text": [
            "Enter your class score: 90\n",
            "The grade is: A\n"
          ]
        }
      ]
    }
  ]
}